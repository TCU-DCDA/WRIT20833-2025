{
  "cells": [
    {
      "cell_type": "markdown",
      "id": "E061ci5516rZ",
      "metadata": {
        "id": "E061ci5516rZ"
      },
      "source": [
        "# WRIT20833 – Intro to Coding in the Humanities\n",
        "## Homework 1 – Repurposing \"Meaningful Words\" Code (Gentle Start + Genre Runs)\n",
        "\n",
        "**Student Name:** _Replace with your name_\n",
        "\n",
        "**Upload:** `LASTNAME_HW1.ipynb`\n",
        "\n",
        "---\n",
        "### What you're doing\n",
        "- You will run the same short program **three times** in **Part 1**:\n",
        "  1) **Nonfiction**, 2) **Novel**, 3) **Political Document** (one text from each category).\n",
        "- Then in **Part 2**, you'll make one or two small changes and describe what happened.\n",
        "- Finish with a brief reflection in **Part 3**.\n",
        "\n",
        "You do **not** need prior coding experience. Follow the steps and add your comments where indicated.\n"
      ]
    },
    {
      "cell_type": "markdown",
      "id": "fDQZ_H-r16ra",
      "metadata": {
        "id": "fDQZ_H-r16ra"
      },
      "source": [
        "## 📦 Setup Code\n",
        "Run this once. It loads the small program we'll use.\n"
      ]
    },
    {
      "cell_type": "markdown",
      "id": "35ba65aa",
      "metadata": {},
      "source": [
        "### What to Expect\n",
        "The program will show you a list like: `[('word', 45), ('another', 32), ('example', 28)]`\n",
        "\n",
        "This means:\n",
        "- 'word' appears 45 times in the text\n",
        "- 'another' appears 32 times \n",
        "- 'example' appears 28 times\n",
        "- And so on, ranked from most frequent to least frequent"
      ]
    },
    {
      "cell_type": "code",
      "execution_count": null,
      "id": "rI5HUhp316ra",
      "metadata": {
        "id": "rI5HUhp316ra"
      },
      "outputs": [],
      "source": [
        "import re\n",
        "from collections import Counter\n",
        "\n",
        "def split_into_words(any_chunk_of_text):\n",
        "    lowercase_text = any_chunk_of_text.lower()\n",
        "    # This line splits text into words by looking for places where letters/numbers are not present.\n",
        "    split_words = re.split(\"\\\\W+\", lowercase_text)\n",
        "    return split_words\n",
        "\n",
        "stopwords = [\"i\", \"me\", \"my\", \"myself\", \"we\", \"our\", \"ours\", \"ourselves\", \"you\", \"your\", \"yours\", \"yourself\", \"yourselves\", \"he\", \"him\", \"his\", \"himself\", \"she\", \"her\", \"hers\", \"herself\", \"it\", \"its\", \"itself\", \"they\", \"them\", \"their\", \"theirs\", \"themselves\", \"what\", \"which\", \"who\", \"whom\", \"this\", \"that\", \"these\", \"those\", \"am\", \"is\", \"are\", \"was\", \"were\", \"be\", \"been\", \"being\", \"have\", \"has\", \"had\", \"having\", \"do\", \"does\", \"did\", \"doing\", \"a\", \"an\", \"the\", \"and\", \"but\", \"if\", \"or\", \"because\", \"as\", \"until\", \"while\", \"of\", \"at\", \"by\", \"for\", \"with\", \"about\", \"against\", \"between\", \"into\", \"through\", \"during\", \"before\", \"after\", \"above\", \"below\", \"to\", \"from\", \"up\", \"down\", \"in\", \"out\", \"on\", \"off\", \"over\", \"under\", \"again\", \"further\", \"then\", \"once\", \"here\", \"there\", \"when\", \"where\", \"why\", \"how\", \"all\", \"any\", \"both\", \"each\", \"few\", \"more\", \"most\", \"other\", \"some\", \"such\", \"no\", \"nor\", \"not\", \"only\", \"own\", \"same\", \"so\", \"than\", \"too\", \"very\", \"s\", \"t\", \"can\", \"will\", \"just\", \"don\", \"should\", \"now\", \"ve\", \"ll\", \"amp\"]\n",
        "print(\"Setup complete. Ready to go!\")\n"
      ]
    },
    {
      "cell_type": "markdown",
      "id": "SPlml3Sr16ra",
      "metadata": {
        "id": "SPlml3Sr16ra"
      },
      "source": [
        "---\n",
        "## Part 1 – Run the Program Three Times (One per Genre)\n",
        "For **each** category below:\n",
        "1. Choose a file from the options.\n",
        "2. Change the `filepath_of_text` line to that file.\n",
        "3. Run the cell.\n",
        "4. Write a short **#comments** note comparing the output to what you find by manually searching the file (Command‑F / Ctrl‑F).\n",
        "\n",
        "You should have **three runs total** in Part 1 — one for each category.\n"
      ]
    },
    {
      "cell_type": "markdown",
      "id": "7dP9ZUq216ra",
      "metadata": {
        "id": "7dP9ZUq216ra"
      },
      "source": [
        "### 📗 Nonfiction\n",
        "_Pick one:_ `Data/20833_BTWashington_F22.txt` **or** `Data/20833_WEBDuBois_F22.txt`\n"
      ]
    },
    {
      "cell_type": "code",
      "execution_count": null,
      "id": "YNr2pt4h16ra",
      "metadata": {
        "id": "YNr2pt4h16ra"
      },
      "outputs": [],
      "source": [
        "# 📗 Nonfiction – update this to your chosen file\n",
        "filepath_of_text = \"Data/20833_BTWashington_F22.txt\"\n",
        "number_of_desired_words = 40\n",
        "\n",
        "full_text = open(filepath_of_text, encoding=\"utf-8\").read()\n",
        "all_the_words = split_into_words(full_text)\n",
        "meaningful_words = [word for word in all_the_words if word and word not in stopwords]\n",
        "meaningful_words_tally = Counter(meaningful_words)\n",
        "most_frequent_meaningful_words = meaningful_words_tally.most_common(number_of_desired_words)\n",
        "most_frequent_meaningful_words\n"
      ]
    },
    {
      "cell_type": "markdown",
      "id": "D1qmQ1bU2DPs",
      "metadata": {
        "id": "D1qmQ1bU2DPs"
      },
      "source": []
    },
    {
      "cell_type": "markdown",
      "id": "AOGP7f5g16ra",
      "metadata": {
        "id": "AOGP7f5g16ra"
      },
      "source": [
        "> **#comments:**\n",
        "> After you run the code, click **+Text** (above) to insert a new text cell below this one.\n",
        "> In that new text cell, write a short note comparing the list of most common words to what you find by manually searching the same file (Command‑F / Ctrl‑F).\n",
        "> - Mention any words that appear often in the text but are missing from the list.\n",
        "> - Mention any words in the list that you didn’t expect.\n"
      ]
    },
    {
      "cell_type": "markdown",
      "id": "3263f0fe",
      "metadata": {},
      "source": [
        "**Write Reflection Here:**\n",
        "\n",
        "*Compare the list of most common words to what you find by manually searching the same file (Command‑F / Ctrl‑F). Mention any words that appear often in the text but are missing from the list. Mention any words in the list that you didn't expect.*"
      ]
    },
    {
      "cell_type": "markdown",
      "id": "E7BSFSR816rb",
      "metadata": {
        "id": "E7BSFSR816rb"
      },
      "source": [
        "### 📘 Novel\n",
        "_Pick one full text:_ `Data/Sense_and_Sensibility.txt` **or** `Data/Far_from_the_Madding_Crowd.txt`\n"
      ]
    },
    {
      "cell_type": "code",
      "execution_count": null,
      "id": "qqfCAMK616rb",
      "metadata": {
        "id": "qqfCAMK616rb"
      },
      "outputs": [],
      "source": [
        "# 📘 Novel – update this to your chosen file\n",
        "filepath_of_text = \"Data/Sense_and_Sensibility.txt\"\n",
        "number_of_desired_words = 40\n",
        "\n",
        "full_text = open(filepath_of_text, encoding=\"utf-8\").read()\n",
        "all_the_words = split_into_words(full_text)\n",
        "meaningful_words = [word for word in all_the_words if word and word not in stopwords]\n",
        "meaningful_words_tally = Counter(meaningful_words)\n",
        "most_frequent_meaningful_words = meaningful_words_tally.most_common(number_of_desired_words)\n",
        "most_frequent_meaningful_words\n"
      ]
    },
    {
      "cell_type": "markdown",
      "id": "JInnu-E216rb",
      "metadata": {
        "id": "JInnu-E216rb"
      },
      "source": [
        "> **#comments:**\n",
        "> After you run the code, click **+Text** (above) to insert a new text cell below this one.\n",
        "> In that new text cell, write a short note comparing the list of most common words to what you find by manually searching the same file (Command‑F / Ctrl‑F).\n",
        "> - Mention any words that appear often in the text but are missing from the list.\n",
        "> - Mention any words in the list that you didn’t expect.\n"
      ]
    },
    {
      "cell_type": "markdown",
      "id": "82e3dcc5",
      "metadata": {},
      "source": [
        "**Write Reflection Here:**\n",
        "\n",
        "*Compare the list of most common words to what you find by manually searching the same file (Command‑F / Ctrl‑F). Mention any words that appear often in the text but are missing from the list. Mention any words in the list that you didn't expect.*"
      ]
    },
    {
      "cell_type": "markdown",
      "id": "alJH2ZId16rb",
      "metadata": {
        "id": "alJH2ZId16rb"
      },
      "source": [
        "### 🏛️ Political Document\n",
        "_Pick one:_ `Data/20833_Declaration_F22.txt` **or** `Data/20833_US_Constitution_F22.txt`\n"
      ]
    },
    {
      "cell_type": "code",
      "execution_count": null,
      "id": "9paxDfex16rb",
      "metadata": {
        "id": "9paxDfex16rb"
      },
      "outputs": [],
      "source": [
        "# 🏛️ Political Document – update this to your chosen file\n",
        "filepath_of_text = \"Data/20833_US_Constitution_F22.txt\"\n",
        "number_of_desired_words = 40\n",
        "\n",
        "full_text = open(filepath_of_text, encoding=\"utf-8\").read()\n",
        "all_the_words = split_into_words(full_text)\n",
        "meaningful_words = [word for word in all_the_words if word and word not in stopwords]\n",
        "meaningful_words_tally = Counter(meaningful_words)\n",
        "most_frequent_meaningful_words = meaningful_words_tally.most_common(number_of_desired_words)\n",
        "most_frequent_meaningful_words\n"
      ]
    },
    {
      "cell_type": "markdown",
      "id": "TCqJ5N8716rb",
      "metadata": {
        "id": "TCqJ5N8716rb"
      },
      "source": [
        "> **#comments:**\n",
        "> After you run the code, click **+Text** (above) to insert a new text cell below this one.\n",
        "> In that new text cell, write a short note comparing the list of most common words to what you find by manually searching the same file (Command‑F / Ctrl‑F).\n",
        "> - Mention any words that appear often in the text but are missing from the list.\n",
        "> - Mention any words in the list that you didn’t expect.\n"
      ]
    },
    {
      "cell_type": "markdown",
      "id": "ee89a9ae",
      "metadata": {},
      "source": [
        "**Write Reflection Here:**\n",
        "\n",
        "*Compare the list of most common words to what you find by manually searching the same file (Command‑F / Ctrl‑F). Mention any words that appear often in the text but are missing from the list. Mention any words in the list that you didn't expect.*"
      ]
    },
    {
      "cell_type": "markdown",
      "id": "ppmKmlXg16rb",
      "metadata": {
        "id": "ppmKmlXg16rb"
      },
      "source": [
        "---\n",
        "## Part 2 – Try Small Changes (One or Two is Plenty)\n",
        "Now make a **small** change and run again on **any one** of your texts (or more, if you like):\n",
        "- Change how many words you see at the end: `number_of_desired_words = 20` or `60`.\n",
        "- Add a few items to the `stopwords` list at the top (for example: `'mr'`, `'mrs'`, `'chapter'`, `'shall'`).\n",
        "\n",
        "Then write a sentence or two about what changed.\n"
      ]
    },
    {
      "cell_type": "code",
      "execution_count": null,
      "id": "1EfECzy_16rb",
      "metadata": {
        "id": "1EfECzy_16rb"
      },
      "outputs": [],
      "source": [
        "# Example of a modified run\n",
        "filepath_of_text = \"Data/Sense_and_Sensibility.txt\"  # choose any one of your texts\n",
        "number_of_desired_words = 50  # try a different number\n",
        "\n",
        "# Create a new stopwords list with additions (avoids duplicates if you run this cell multiple times)\n",
        "custom_stopwords = stopwords + ['mr', 'mrs', 'chapter']\n",
        "\n",
        "full_text = open(filepath_of_text, encoding=\"utf-8\").read()\n",
        "all_the_words = split_into_words(full_text)\n",
        "meaningful_words = [word for word in all_the_words if word and word not in custom_stopwords]\n",
        "meaningful_words_tally = Counter(meaningful_words)\n",
        "most_frequent_meaningful_words = meaningful_words_tally.most_common(number_of_desired_words)\n",
        "most_frequent_meaningful_words"
      ]
    },
    {
      "cell_type": "markdown",
      "id": "3WfXtm_m16rb",
      "metadata": {
        "id": "3WfXtm_m16rb"
      },
      "source": [
        "> **#comments (Part 2):** What changed when you adjusted the settings? Did new words appear near the top? Did some fall off the list?\n"
      ]
    },
    {
      "cell_type": "markdown",
      "id": "8fbe0b5a",
      "metadata": {},
      "source": [
        "**Write Reflection Here:**\n",
        "\n",
        "*What changed when you adjusted the settings? Did new words appear near the top? Did some fall off the list?*"
      ]
    },
    {
      "cell_type": "markdown",
      "id": "sqzvF-Hx16rb",
      "metadata": {
        "id": "sqzvF-Hx16rb"
      },
      "source": [
        "---\n",
        "## Part 3 – Reflection (3–4 sentences)\n",
        "- Which changes had the biggest effect on the list?\n",
        "- What patterns did you notice across the three genres?\n",
        "- How might computational text analysis reveal things that close reading might miss?\n",
        "- What are the limitations of this word-counting approach?"
      ]
    },
    {
      "cell_type": "markdown",
      "id": "72fec6f4",
      "metadata": {},
      "source": [
        "**Write Reflection Here:**\n",
        "\n",
        "*Write 3-4 sentences addressing the questions above.*"
      ]
    },
    {
      "cell_type": "markdown",
      "id": "XyQjNzoQ16rb",
      "metadata": {
        "id": "XyQjNzoQ16rb"
      },
      "source": [
        "---\n",
        "### Submission Checklist\n",
        "- [ ] My name is at the top of the notebook.\n",
        "- [ ] **Part 1:** I ran the program **three times** — once for each category (Nonfiction, Novel, Political Document).\n",
        "- [ ] **Part 2:** I made at least one small change and wrote a quick note about the result.\n",
        "- [ ] **Part 3:** I wrote a short reflection.\n",
        "- [ ] I saved as `LASTNAME_HW1.ipynb` and uploaded to D2L.\n",
        "\n",
        "_Generated: 2025-08-11_\n"
      ]
    }
  ],
  "metadata": {
    "colab": {
      "provenance": []
    },
    "kernelspec": {
      "display_name": "Python 3",
      "language": "python",
      "name": "python3"
    },
    "language_info": {
      "name": "python",
      "version": "3.x"
    }
  },
  "nbformat": 4,
  "nbformat_minor": 5
}
