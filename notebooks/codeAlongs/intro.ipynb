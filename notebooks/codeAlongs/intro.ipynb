{
  "nbformat": 4,
  "nbformat_minor": 0,
  "metadata": {
    "colab": {
      "provenance": [],
      "include_colab_link": true
    },
    "kernelspec": {
      "name": "python3",
      "display_name": "Python 3"
    },
    "language_info": {
      "name": "python"
    }
  },
  "cells": [
    {
      "cell_type": "markdown",
      "metadata": {
        "id": "view-in-github",
        "colab_type": "text"
      },
      "source": [
        "<a href=\"https://colab.research.google.com/github/TCU-DCDA/WRIT20833/blob/main/20833_Variables_DataTypes_Worksheet_F25.ipynb\" target=\"_parent\"><img src=\"https://colab.research.google.com/assets/colab-badge.svg\" alt=\"Open In Colab\"/></a>"
      ]
    },
    {
      "cell_type": "markdown",
      "source": [
        "#WRIT 20833 Variables & Data Types Worksheet\n",
        "\n",
        "Make an editable copy of this worksheet by going to File > Save a copy in Drive\n",
        "\n",
        "For a deeper dive into this material, please refer bck to\n",
        "\n",
        "https://melaniewalsh.github.io/Intro-Cultural-Analytics/02-Python/04-Variables.html\n",
        "\n",
        "https://melaniewalsh.github.io/Intro-Cultural-Analytics/02-Python/05-Data-Types.html"
      ],
      "metadata": {
        "id": "tEldVd2NkoRk"
      }
    },
    {
      "cell_type": "markdown",
      "source": [
        "# Variables\n",
        "\n",
        "A variable is a **label** we apply to a stored data point\n",
        "\n",
        "- The data exists at a specific memory location with its own address\n",
        "-The variable is just a human-friendly name that points to that location\n",
        "-The data and the variable name are separate things"
      ],
      "metadata": {
        "id": "1ScyqdH3n9s8"
      }
    },
    {
      "cell_type": "markdown",
      "source": [
        "# Variable Names\n",
        "* Striving for Good Variable Names\n",
        "* Off-limits Names"
      ],
      "metadata": {
        "id": "snA_c_Iftz5B"
      }
    },
    {
      "cell_type": "code",
      "execution_count": null,
      "metadata": {
        "id": "JqI942vfsRUU",
        "colab": {
          "base_uri": "https://localhost:8080/"
        },
        "outputId": "3df051f1-00a8-471c-c0c5-24bfd2dd9211"
      },
      "outputs": [
        {
          "output_type": "stream",
          "name": "stdout",
          "text": [
            "Curt\n"
          ]
        }
      ],
      "source": [
        "name = \"Curt\"\n",
        "\n",
        "\n",
        "print(name)\n",
        "0"
      ]
    },
    {
      "cell_type": "markdown",
      "source": [
        "# Re-Assigning Variables"
      ],
      "metadata": {
        "id": "H6ZmLo6lt6h6"
      }
    },
    {
      "cell_type": "code",
      "source": [
        "name = \"Brad\"\n",
        "\n",
        "print(name)"
      ],
      "metadata": {
        "id": "ydWpHaLuuIIs",
        "colab": {
          "base_uri": "https://localhost:8080/"
        },
        "outputId": "cdd2fbb1-152c-4caa-efe8-f642045622d5"
      },
      "execution_count": null,
      "outputs": [
        {
          "output_type": "stream",
          "name": "stdout",
          "text": [
            "Brad\n"
          ]
        }
      ]
    },
    {
      "cell_type": "markdown",
      "source": [
        "#Data Types\n",
        "\n",
        "\n",
        "* Strings\n",
        "* Integers\n",
        "* Floats\n",
        "* Booleans\n",
        "\n",
        "\n"
      ],
      "metadata": {
        "id": "nIVjUBe5uJVR"
      }
    },
    {
      "cell_type": "code",
      "source": [
        "# Strings\n",
        "\n",
        "happiest_students = \"TCU\""
      ],
      "metadata": {
        "id": "_zAMDE_sucOB"
      },
      "execution_count": null,
      "outputs": []
    },
    {
      "cell_type": "code",
      "source": [
        "happiest_number_of_students = \"40\""
      ],
      "metadata": {
        "id": "ylTZDQsJ2eVr"
      },
      "execution_count": null,
      "outputs": []
    },
    {
      "cell_type": "code",
      "source": [
        "type(happiest_number_of_students)"
      ],
      "metadata": {
        "colab": {
          "base_uri": "https://localhost:8080/"
        },
        "id": "P8AI-xw52Woq",
        "outputId": "2220b270-adfe-430b-8f01-83f3de4e007b"
      },
      "execution_count": null,
      "outputs": [
        {
          "output_type": "execute_result",
          "data": {
            "text/plain": [
              "str"
            ]
          },
          "metadata": {},
          "execution_count": 8
        }
      ]
    },
    {
      "cell_type": "code",
      "source": [],
      "metadata": {
        "id": "zZkl6H622nE_"
      },
      "execution_count": null,
      "outputs": []
    },
    {
      "cell_type": "code",
      "source": [
        "# Integers\n",
        "\n",
        "happiest_number_of_students = 40"
      ],
      "metadata": {
        "id": "w3TAkdv7uuM0"
      },
      "execution_count": null,
      "outputs": []
    },
    {
      "cell_type": "code",
      "source": [
        "type(happiest_number_of_students)"
      ],
      "metadata": {
        "colab": {
          "base_uri": "https://localhost:8080/"
        },
        "id": "RMibQ0tP27lp",
        "outputId": "2a7354ba-c5a1-4e51-ee1d-c48cd12a590e"
      },
      "execution_count": null,
      "outputs": [
        {
          "output_type": "execute_result",
          "data": {
            "text/plain": [
              "int"
            ]
          },
          "metadata": {},
          "execution_count": 11
        }
      ]
    },
    {
      "cell_type": "code",
      "source": [
        "# Floats\n",
        "\n",
        "pi = 3.14"
      ],
      "metadata": {
        "id": "9YEyn1yluw-N"
      },
      "execution_count": null,
      "outputs": []
    },
    {
      "cell_type": "code",
      "source": [
        "type(pi)"
      ],
      "metadata": {
        "colab": {
          "base_uri": "https://localhost:8080/"
        },
        "id": "CVmtiuIX3L7D",
        "outputId": "fb58e2cf-58ab-4a2b-fa23-eee4aad0106e"
      },
      "execution_count": null,
      "outputs": [
        {
          "output_type": "execute_result",
          "data": {
            "text/plain": [
              "float"
            ]
          },
          "metadata": {},
          "execution_count": 14
        }
      ]
    },
    {
      "cell_type": "code",
      "source": [
        "# Booleans\n",
        "\n",
        "old_friend = \"Brad\"\n",
        "\n",
        "new_friend = \"Selina\"\n",
        "\n",
        "\"Selina\" == old_friend\n",
        "\n"
      ],
      "metadata": {
        "id": "7jPnKLPUuzEf",
        "colab": {
          "base_uri": "https://localhost:8080/"
        },
        "outputId": "9e5f1a0d-d404-4be0-cd0b-7a65bd54c685"
      },
      "execution_count": null,
      "outputs": [
        {
          "output_type": "execute_result",
          "data": {
            "text/plain": [
              "False"
            ]
          },
          "metadata": {},
          "execution_count": 18
        }
      ]
    },
    {
      "cell_type": "markdown",
      "source": [
        "# Check Data Types"
      ],
      "metadata": {
        "id": "h-1vt-80wLPx"
      }
    },
    {
      "cell_type": "code",
      "source": [
        "# type()"
      ],
      "metadata": {
        "id": "q2FJrZbzwQxN"
      },
      "execution_count": null,
      "outputs": []
    },
    {
      "cell_type": "markdown",
      "source": [
        "# Strings and String Methods\n"
      ],
      "metadata": {
        "id": "3brgxc0cw_yI"
      }
    },
    {
      "cell_type": "code",
      "source": [
        "# index\n",
        "\n",
        "beyonce = \"a famous and very rich artist\"\n",
        "\n",
        "len(beyonce)\n"
      ],
      "metadata": {
        "id": "FI4iLo4Px4IA",
        "colab": {
          "base_uri": "https://localhost:8080/"
        },
        "outputId": "c795ac74-92ca-454d-ad1b-ac62138bd399"
      },
      "execution_count": null,
      "outputs": [
        {
          "output_type": "execute_result",
          "data": {
            "text/plain": [
              "29"
            ]
          },
          "metadata": {},
          "execution_count": 21
        }
      ]
    },
    {
      "cell_type": "code",
      "source": [
        "beyonce[14]"
      ],
      "metadata": {
        "colab": {
          "base_uri": "https://localhost:8080/",
          "height": 35
        },
        "id": "GEs569yZ5ajv",
        "outputId": "c7e2a7b9-d791-4294-8641-6a2be1cb018f"
      },
      "execution_count": null,
      "outputs": [
        {
          "output_type": "execute_result",
          "data": {
            "text/plain": [
              "'e'"
            ],
            "application/vnd.google.colaboratory.intrinsic+json": {
              "type": "string"
            }
          },
          "metadata": {},
          "execution_count": 22
        }
      ]
    },
    {
      "cell_type": "code",
      "source": [
        "# slice\n",
        "\n",
        "beyonce[14:20]"
      ],
      "metadata": {
        "id": "_H1V0lrFzpX_",
        "colab": {
          "base_uri": "https://localhost:8080/",
          "height": 35
        },
        "outputId": "d28546a6-7631-47f9-9ddd-70b08be51540"
      },
      "execution_count": null,
      "outputs": [
        {
          "output_type": "execute_result",
          "data": {
            "text/plain": [
              "'ery ri'"
            ],
            "application/vnd.google.colaboratory.intrinsic+json": {
              "type": "string"
            }
          },
          "metadata": {},
          "execution_count": 24
        }
      ]
    },
    {
      "cell_type": "code",
      "source": [
        "# add (concatenate)\n",
        "\n",
        "name = \"TJ\"\n",
        "\n",
        "action = \" is sitting\"\n",
        "\n",
        "print(name + action)\n"
      ],
      "metadata": {
        "id": "MkEP5B-Kzq6b",
        "colab": {
          "base_uri": "https://localhost:8080/"
        },
        "outputId": "0e903e3f-827c-4a21-f6e4-e11b67f7df39"
      },
      "execution_count": null,
      "outputs": [
        {
          "output_type": "stream",
          "name": "stdout",
          "text": [
            "TJ is sitting\n"
          ]
        }
      ]
    },
    {
      "cell_type": "code",
      "source": [
        "# lowercase\n",
        "\n",
        "name = \"Curt\"\n",
        "\n",
        "moniker = \"curt\"\n",
        "\n",
        "name2 = name.lower()\n",
        "\n",
        "#print(name2)\n",
        "\n",
        "name2 == moniker\n"
      ],
      "metadata": {
        "id": "lO-OKtetztn1",
        "colab": {
          "base_uri": "https://localhost:8080/"
        },
        "outputId": "95cbc845-c68b-4973-dba9-bbeb960a9d25"
      },
      "execution_count": null,
      "outputs": [
        {
          "output_type": "execute_result",
          "data": {
            "text/plain": [
              "True"
            ]
          },
          "metadata": {},
          "execution_count": 34
        }
      ]
    },
    {
      "cell_type": "code",
      "source": [
        "# f-string\n",
        "\n"
      ],
      "metadata": {
        "id": "-hLJOx3IzxKG"
      },
      "execution_count": null,
      "outputs": []
    },
    {
      "cell_type": "markdown",
      "source": [
        "# Integers & Floats and Operations\n",
        "\n",
        "When we're dealing with actual numbers (whole numbers and decimal points), we can use basic mathematical operations that should be pretty familiar:\n",
        "\n",
        " * x + y\n",
        " * x - y\n",
        " * x * y\n",
        " * x / y\n",
        " * -x\n",
        " * x**y (x to the y power)\n",
        "\n",
        "Some operations that are helpful but less obvious would be:\n",
        "\n",
        "*  x // y (floored quotient of x and y)\n",
        "*  x % y (remainder of x/y)\n",
        "\n"
      ],
      "metadata": {
        "id": "Uwa2ZkDLyfkP"
      }
    },
    {
      "cell_type": "code",
      "source": [
        "# x**y"
      ],
      "metadata": {
        "id": "ifwutUZJzlc8"
      },
      "execution_count": null,
      "outputs": []
    },
    {
      "cell_type": "code",
      "source": [
        "# x % y"
      ],
      "metadata": {
        "id": "sh4ibHl2zl4p"
      },
      "execution_count": null,
      "outputs": []
    },
    {
      "cell_type": "markdown",
      "source": [
        "# Type Errors"
      ],
      "metadata": {
        "id": "UtA3GSDg3s3i"
      }
    },
    {
      "cell_type": "code",
      "source": [
        "# Error messages are not the end goal, but they are really helpful along the way"
      ],
      "metadata": {
        "id": "pmlTb4GK3-CA"
      },
      "execution_count": null,
      "outputs": []
    },
    {
      "cell_type": "markdown",
      "source": [
        "# Playground"
      ],
      "metadata": {
        "id": "dNg5HIjS8_oI"
      }
    },
    {
      "cell_type": "code",
      "source": [
        "# use this space to experiment!"
      ],
      "metadata": {
        "id": "E29O3fB1AIFT"
      },
      "execution_count": null,
      "outputs": []
    }
  ]
}